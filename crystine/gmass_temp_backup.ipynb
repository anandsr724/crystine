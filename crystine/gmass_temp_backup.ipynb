{
 "cells": [
  {
   "cell_type": "code",
   "execution_count": 1,
   "metadata": {},
   "outputs": [],
   "source": [
    "#last updated - 27-04-2024\n",
    "\n",
    "import numpy as np\n",
    "import pandas as pd\n",
    "import re\n",
    "import matplotlib.pyplot as plt\n",
    "\n",
    "\n",
    "\n",
    "import os\n",
    "from pymatgen.io.vasp.outputs import BSVasprun\n",
    "from pymatgen.electronic_structure.plotter import BSDOSPlotter\n",
    "from pymatgen.electronic_structure.bandstructure import get_reconstructed_band_structure, Spin\n",
    "\n",
    "def generate_band_dat(vr_files):\n",
    "    bandstructures = []\n",
    "    for vr_file in vr_files:\n",
    "        vr = BSVasprun(vr_file, parse_projected_eigen=False)\n",
    "        bs = vr.get_band_structure(line_mode=True)\n",
    "        bandstructures.append(bs)\n",
    "    bs = get_reconstructed_band_structure(bandstructures)\n",
    "    \n",
    "    return save_band_dat(bs)\n",
    "\n",
    "def save_band_dat(bs, prefix=None, directory=None):\n",
    "    filename = f\"{prefix}_band.dat\" if prefix else \"band.dat\"\n",
    "    directory = directory if directory else \".\"\n",
    "    filename = os.path.join(directory, filename)\n",
    "\n",
    "    if bs.is_metal():\n",
    "        zero = bs.efermi\n",
    "    else:\n",
    "        zero = bs.get_vbm()[\"energy\"]\n",
    "\n",
    "    with open(filename, \"w\") as f:\n",
    "        header = \"#k-distance eigenvalue[eV]\\n\"\n",
    "        f.write(header)\n",
    "\n",
    "        for band in bs.bands[Spin.up]:\n",
    "            for d, e in zip(bs.distance, band):\n",
    "                f.write(f\"{d:.8f} {e - zero:.8f}\\n\")\n",
    "            f.write(\"\\n\")\n",
    "\n",
    "        if bs.is_spin_polarized:\n",
    "            for band in bs.bands[Spin.down]:\n",
    "                for d, e in zip(bs.distance, band):\n",
    "                    f.write(f\"{d:.8f} {e - zero:.8f}\\n\")\n",
    "                f.write(\"\\n\")\n",
    "\n",
    "    return filename\n",
    "\n",
    "# above code is do generate .dat file\n",
    "\n",
    "def extract_lines(input_file, output_file, start_line=12, end_line=34):\n",
    "#extract from input file start_line and end_line both included\n",
    "\n",
    "  with open(input_file, 'r') as infile, open(output_file, 'w') as outfile:\n",
    "    for line_number, line in enumerate(infile, 1):\n",
    "      if start_line <= line_number < end_line+1:\n",
    "        outfile.write(line)\n",
    "\n",
    "\n",
    "def startingPoint(bandNum,kp_num,sumo): \n",
    "      if(sumo==True):\n",
    "          return 2+(bandNum-1)*kp_num+(bandNum-1)\n",
    "      else:\n",
    "         return 4+(bandNum-1)*kp_num+(bandNum-1)*2\n",
    "      \n",
    "def endingPoint(bandNum,kp_num,sumo):\n",
    "      return startingPoint(bandNum,kp_num,sumo)+kp_num-1\n",
    "\n",
    "def remove_space_and_get_words_and_numbers(text):\n",
    "    # Remove all spaces from the text\n",
    "    text = re.sub(r'\\s+', '', text)\n",
    "    \n",
    "    # Split the text into words and numbers using regular expression\n",
    "    # \\w+ matches any word character (alphanumeric or underscore) one or more times\n",
    "    # \\d+ matches any digit character one or more times\n",
    "    words_and_numbers = re.findall(r'\\w+|\\d+', text)\n",
    "    \n",
    "    return words_and_numbers\n",
    "\n",
    "def postCalc( select_band ):\n",
    "    select_band['Energy (au)'] = select_band['energy']/27.2112\n",
    "    select_band['K-Points (1/au)'] = select_band['band_index']*0.592 \n",
    "\n",
    "    #substract the initial Kpoint value\n",
    "    initial_kpoint_value = select_band['K-Points (1/au)'].values[0]\n",
    "    select_band['K-Points (1/au) Subs'] = select_band['K-Points (1/au)']-initial_kpoint_value\n",
    "    \n",
    "    #substract the initial energy value\n",
    "    initial_kpoint_value = select_band['Energy (au)'].values[0]\n",
    "    select_band['Energy (au) Subs'] = select_band['Energy (au)']-initial_kpoint_value\n",
    "    return select_band\n",
    "\n",
    "#function to select the data frame \n",
    "def band_selection(df_band , lim_kpoints , band_type='vb' , direc=True):  #direc = true means forward\n",
    "\n",
    "    #find the max value in the valence band\n",
    "    if(band_type=='vb'):\n",
    "        selected_band=df_band['energy'].idxmax()\n",
    "        # print(\"Corresponding VBM is \\n\", df_band.loc[ selected_band ])\n",
    "    else:  #for CB\n",
    "        selected_band=df_band['energy'].idxmin()\n",
    "        # print(\"Corresponding CBM is \\n\", df_band.loc[ selected_band ])\n",
    "\n",
    "    #select the prev and next values\n",
    "    if direc == True:\n",
    "        temp_df=pd.DataFrame(df_band.loc[ selected_band : selected_band+lim_kpoints-1 ])\n",
    "        return postCalc( temp_df )\n",
    "    else:\n",
    "        temp_df= pd.DataFrame(df_band.loc[ selected_band - lim_kpoints + 1 : selected_band ])\n",
    "        return postCalc( temp_df )\n",
    "\n",
    "def in_excel( my_text , my_df , excel_path , ex_row , ex_col , lim_kpoints):\n",
    "    with pd.ExcelWriter(excel_path, engine='openpyxl', mode='a',if_sheet_exists=\"overlay\") as writer:\n",
    "        my_text=pd.DataFrame([my_text])\n",
    "        my_df.to_excel( writer, index=False, sheet_name='Sheet1',startcol=ex_col, startrow=ex_row)\n",
    "        my_text.to_excel( writer, index=False, sheet_name='Sheet1',startcol=ex_col-1, startrow=ex_row)\n",
    "    #to update the row\n",
    "    return ex_row+lim_kpoints+3\n",
    "\n",
    "def kp_FromDat(parent_datPath,using_sum):\n",
    "     \n",
    "    using_sumo=1\n",
    "    if using_sumo==1:\n",
    "        start_dat=1 #index 1\n",
    "    else: \n",
    "        start_dat=3 #index 3\n",
    "\n",
    "    with open(parent_datPath, 'r') as file:\n",
    "            line_count = 0\n",
    "            for line in file:\n",
    "                s1 = [float(s) for s in re.findall(r'-?\\d+\\.?\\d*', line)]\n",
    "                if( line_count > 3  ):\n",
    "                    if len(s1)==0:\n",
    "                        break\n",
    "                # print(s1)\n",
    "                line_count+=1\n",
    "    return line_count-start_dat\n",
    "\n",
    "\n",
    "#fitting\n",
    "\n",
    "def mass_cal(final_df,image_name):\n",
    "    \"\"\"\n",
    "    this funtion takes the data frame and return the effective mass\n",
    "\n",
    "    polyfit finds the equation such that it minimises the squared error \n",
    "    \"\"\"\n",
    "\n",
    "    if(len(final_df)==1):\n",
    "        print(\"Mass = \", None)\n",
    "        return None,None\n",
    "\n",
    "    x = np.array(final_df[\"K-Points (1/au) Subs\"])     # array([-4, -3, -2, -1,  0,  1,  2,  3,  4])\n",
    "    y = np.array(final_df[\"Energy (au) Subs\"])         # array([-1,  1, -1,  1, -1,  1, -1,  1,  0])\n",
    "\n",
    "    # print(x)\n",
    "    # print(y)\n",
    "    c = np.polyfit(x, y, 2)\n",
    "    # Returns a vector of coefficients p that minimises the squared error.\n",
    "\n",
    "    #array([-6.32440476e-03,  9.92063492e-05,  1.77430556e-01, -1.38888889e-03,\n",
    "    #       -1.42100694e+00,  4.86111111e-03,  3.24990079e+00, -3.57142857e-03,\n",
    "    #       -1.00000000e+00])\n",
    "    \n",
    "    # print(c)\n",
    "    c = [ '%.4f' % elem for elem in c ]\n",
    "\n",
    "    # print(\"df is \\n\")\n",
    "    # print(final_df)\n",
    "    # print(\"df is \\n\")\n",
    "\n",
    "    print(\"2 degree polynomail fit =>  \" , c[0],\"x^2 + \",c[1],\"x\" )\n",
    "    equation = str(\"2 degree polynomail fit =>  \" + c[0]+\"x^2 + \"+c[1]+\"x\")\n",
    "    \n",
    "    # Uncomment this to visualize the polyfit\n",
    "    \n",
    "    p = np.poly1d( np.polyfit(x, y, 2) )\n",
    "    t = np.linspace(x.min(), x.max(), 50)\n",
    "\n",
    "    fig, ax = plt.subplots()\n",
    "    # Plotting our polynomial function\n",
    "    ax.plot(t, p(t))\n",
    "    ax.plot(x, y )\n",
    "    plt.xlabel(\"K-Points(1/au)\")\n",
    "    plt.ylabel(\"Energy(au)\")\n",
    "    plt.legend([\"Polyfit\", \"Dataset\"], loc=\"upper left\")\n",
    "    plt.savefig(image_name, bbox_inches='tight', dpi=300)\n",
    "    #plt.show()\n",
    "\n",
    "    a = float(c[0])\n",
    "\n",
    "    if a==0:\n",
    "        mass= None\n",
    "    else:\n",
    "        mass = 1/(2*a)\n",
    "\n",
    "    # a = 1/2m\n",
    "    # mass = 1/(2*a)\n",
    "    print(\"Mass = \", mass)\n",
    "    return mass,equation\n",
    "\n"
   ]
  },
  {
   "cell_type": "code",
   "execution_count": 2,
   "metadata": {},
   "outputs": [],
   "source": [
    "def info_from_outcar(OUTCAR_path):\n",
    "        ################################################\n",
    "    #extracting data from OUTCAR\n",
    "\n",
    "    #find the line that has data of NKPTS and NELECT\n",
    "    with open(OUTCAR_path, 'r') as f:\n",
    "        for line in f.readlines():\n",
    "            if 'k-points           NKPTS =' in line:\n",
    "                band_line=line\n",
    "            if 'NELECT =' in line:\n",
    "                nelec_line=line\n",
    "\n",
    "\n",
    "    # print(\"band line\",band_line)\n",
    "    # print(\"nelec_line\",nelec_line)\n",
    "\n",
    "\n",
    "    #extract all the numbers from the string and convert them into a list\n",
    "    s1 = [float(s) for s in re.findall(r'-?\\d+\\.?\\d*', nelec_line)]\n",
    "    # print(nelec_line)\n",
    "\n",
    "    NELECT=s1[0]     #check the number of electrons to find the VBM number\n",
    "\n",
    "    s2 = [float(s) for s in re.findall(r'-?\\d+\\.?\\d*', band_line)]\n",
    "    # print(band_line)\n",
    "\n",
    "    NKPTS=s2[0]\n",
    "\n",
    "    return NELECT , NKPTS \n",
    "\n",
    "\n",
    "######\n",
    "# data extracted from OUTCAR \n",
    "###\n",
    "     \n"
   ]
  },
  {
   "cell_type": "code",
   "execution_count": 7,
   "metadata": {},
   "outputs": [
    {
     "name": "stdout",
     "output_type": "stream",
     "text": [
      "-------------------------\n",
      "-- Effective Mass Calculator\n",
      "Make sure OUTCAR and band.dat or BAND.dat are present in the same directory\n",
      "-------------------------\n",
      "\n"
     ]
    }
   ],
   "source": [
    "\n"
   ]
  },
  {
   "cell_type": "code",
   "execution_count": 9,
   "metadata": {},
   "outputs": [
    {
     "data": {
      "text/plain": [
       "45.0"
      ]
     },
     "execution_count": 9,
     "metadata": {},
     "output_type": "execute_result"
    }
   ],
   "source": [
    "NKPTS"
   ]
  },
  {
   "cell_type": "code",
   "execution_count": null,
   "metadata": {},
   "outputs": [],
   "source": [
    "#handling the dat file"
   ]
  },
  {
   "cell_type": "code",
   "execution_count": 30,
   "metadata": {},
   "outputs": [],
   "source": [
    "import os\n",
    "import numpy as np\n",
    "from pymatgen.io.vasp.outputs import BSVasprun\n",
    "from pymatgen.electronic_structure.bandstructure import get_reconstructed_band_structure, Spin\n",
    "\n",
    "def generate_band_data(vr_files, save_dat=True, prefix=None, directory=None):\n",
    "    bandstructures = []\n",
    "    for vr_file in vr_files:\n",
    "        vr = BSVasprun(vr_file, parse_projected_eigen=False)\n",
    "        bs = vr.get_band_structure(line_mode=True)\n",
    "        bandstructures.append(bs)\n",
    "    bs = get_reconstructed_band_structure(bandstructures)\n",
    "    \n",
    "    band_data = extract_band_data(bs)\n",
    "    \n",
    "    if save_dat:\n",
    "        save_band_dat(band_data, prefix=prefix, directory=directory)\n",
    "    \n",
    "    return band_data\n",
    "\n",
    "def extract_band_data(bs):\n",
    "    band_data = []\n",
    "    zero = bs.efermi if bs.is_metal() else bs.get_vbm()[\"energy\"]\n",
    "    for band in bs.bands[Spin.up]:\n",
    "        band_data.extend([(d, e - zero) for d, e in zip(bs.distance, band)])\n",
    "    if bs.is_spin_polarized:\n",
    "        for band in bs.bands[Spin.down]:\n",
    "            band_data.extend([(d, e - zero) for d, e in zip(bs.distance, band)])   \n",
    "    return np.round_(np.array(band_data), decimals = 8) \n",
    "\n",
    "def save_band_dat(band_data, prefix=None, directory=None):\n",
    "    filename = f\"{prefix}_band_own.dat\" if prefix else \"band_own.dat\"\n",
    "    directory = directory if directory else \".\"\n",
    "    filename = os.path.join(directory, filename)\n",
    "    \n",
    "    with open(filename, \"w\") as f:\n",
    "        f.write(\"#k-distance eigenvalue[eV]\\n\")\n",
    "        for d, e in band_data:\n",
    "            f.write(f\"{d:.8f} {e:.8f}\\n\")\n",
    "    \n",
    "    return filename\n",
    "\n"
   ]
  },
  {
   "cell_type": "code",
   "execution_count": 31,
   "metadata": {},
   "outputs": [
    {
     "name": "stderr",
     "output_type": "stream",
     "text": [
      "C:\\Users\\anand\\AppData\\Local\\Temp\\ipykernel_40060\\3437596743.py:14: DeprecationWarning: `round_` is deprecated as of NumPy 1.25.0, and will be removed in NumPy 2.0. Please use `round` instead.\n",
      "  band_data = extract_band_data(bs)\n"
     ]
    }
   ],
   "source": [
    "vr_files = [\"./vasprun.xml\"]\n",
    "data2=generate_band_data(vr_files)\n"
   ]
  },
  {
   "cell_type": "code",
   "execution_count": 29,
   "metadata": {},
   "outputs": [
    {
     "data": {
      "text/plain": [
       "True"
      ]
     },
     "execution_count": 29,
     "metadata": {},
     "output_type": "execute_result"
    }
   ],
   "source": [
    "np.array_equal(data,data2)\n"
   ]
  },
  {
   "cell_type": "code",
   "execution_count": 17,
   "metadata": {},
   "outputs": [
    {
     "data": {
      "text/plain": [
       "0.03151036"
      ]
     },
     "execution_count": 17,
     "metadata": {},
     "output_type": "execute_result"
    }
   ],
   "source": [
    "data[1,0]"
   ]
  },
  {
   "cell_type": "code",
   "execution_count": 28,
   "metadata": {},
   "outputs": [],
   "source": [
    "data = np.loadtxt( 'band.dat' )"
   ]
  },
  {
   "cell_type": "code",
   "execution_count": 19,
   "metadata": {},
   "outputs": [
    {
     "data": {
      "text/plain": [
       "(9540, 2)"
      ]
     },
     "execution_count": 19,
     "metadata": {},
     "output_type": "execute_result"
    }
   ],
   "source": [
    "data.shape"
   ]
  },
  {
   "cell_type": "code",
   "execution_count": 47,
   "metadata": {},
   "outputs": [
    {
     "data": {
      "text/plain": [
       "7154.0"
      ]
     },
     "execution_count": 47,
     "metadata": {},
     "output_type": "execute_result"
    }
   ],
   "source": [
    "NKPTS*(int(cb)-1)-1"
   ]
  },
  {
   "cell_type": "code",
   "execution_count": 70,
   "metadata": {},
   "outputs": [
    {
     "data": {
      "text/plain": [
       "True"
      ]
     },
     "execution_count": 70,
     "metadata": {},
     "output_type": "execute_result"
    }
   ],
   "source": [
    "data = np.loadtxt( 'band.dat' )\n",
    "np.array_equal(data[int(NKPTS*(int(vb)-1)):int(NKPTS*(int(vb+1)-1))],np.array(df_vbm))"
   ]
  },
  {
   "cell_type": "code",
   "execution_count": 71,
   "metadata": {},
   "outputs": [
    {
     "data": {
      "text/plain": [
       "True"
      ]
     },
     "execution_count": 71,
     "metadata": {},
     "output_type": "execute_result"
    }
   ],
   "source": [
    "np.array_equal(data[int(NKPTS*(int(cb)-1)):int(NKPTS*(int(cb+1)-1))],np.array(df_cbm))"
   ]
  },
  {
   "cell_type": "code",
   "execution_count": 31,
   "metadata": {},
   "outputs": [
    {
     "data": {
      "text/plain": [
       "7270.0"
      ]
     },
     "execution_count": 31,
     "metadata": {},
     "output_type": "execute_result"
    }
   ],
   "source": [
    "start_line_vb"
   ]
  },
  {
   "cell_type": "code",
   "execution_count": 23,
   "metadata": {},
   "outputs": [
    {
     "data": {
      "text/plain": [
       "159.0"
      ]
     },
     "execution_count": 23,
     "metadata": {},
     "output_type": "execute_result"
    }
   ],
   "source": [
    "end_line_vb/46"
   ]
  },
  {
   "cell_type": "code",
   "execution_count": 40,
   "metadata": {},
   "outputs": [
    {
     "data": {
      "text/plain": [
       "46.0"
      ]
     },
     "execution_count": 40,
     "metadata": {},
     "output_type": "execute_result"
    }
   ],
   "source": [
    "start_line_cb - start_line_vb"
   ]
  },
  {
   "cell_type": "code",
   "execution_count": null,
   "metadata": {},
   "outputs": [],
   "source": []
  },
  {
   "cell_type": "code",
   "execution_count": 36,
   "metadata": {},
   "outputs": [
    {
     "name": "stdout",
     "output_type": "stream",
     "text": [
      "loading -"
     ]
    },
    {
     "name": "stdout",
     "output_type": "stream",
     "text": [
      "Done!     "
     ]
    }
   ],
   "source": [
    "import itertools\n",
    "import threading\n",
    "import time\n",
    "import sys\n",
    "\n",
    "done = False\n",
    "#here is the animation\n",
    "def animate():\n",
    "    for c in itertools.cycle(['|', '/', '-', '\\\\']):\n",
    "        if done:\n",
    "            break\n",
    "        sys.stdout.write('\\rloading ' + c)\n",
    "        sys.stdout.flush()\n",
    "        time.sleep(0.1)\n",
    "    sys.stdout.write('\\rDone!     ')\n",
    "\n",
    "t = threading.Thread(target=animate)\n",
    "t.start()\n",
    "\n",
    "#long process here\n",
    "time.sleep(10)\n",
    "done = True"
   ]
  },
  {
   "cell_type": "code",
   "execution_count": 1,
   "metadata": {},
   "outputs": [
    {
     "name": "stdout",
     "output_type": "stream",
     "text": [
      "___________________________\n",
      "|  Welcome, I'm Crystine   |\n",
      "___________________________\n"
     ]
    },
    {
     "name": "stderr",
     "output_type": "stream",
     "text": [
      "usage: ipykernel_launcher.py [-h] [--excel EXCEL] [--dat DAT] [--vbcb VBCB]\n",
      "ipykernel_launcher.py: error: unrecognized arguments: --f=c:\\Users\\anand\\AppData\\Roaming\\jupyter\\runtime\\kernel-v2-331485bTPkxkjkEKZ.json\n"
     ]
    },
    {
     "ename": "SystemExit",
     "evalue": "2",
     "output_type": "error",
     "traceback": [
      "An exception has occurred, use %tb to see the full traceback.\n",
      "\u001b[1;31mSystemExit\u001b[0m\u001b[1;31m:\u001b[0m 2\n"
     ]
    },
    {
     "name": "stderr",
     "output_type": "stream",
     "text": [
      "c:\\Users\\anand\\anaconda3\\Lib\\site-packages\\IPython\\core\\interactiveshell.py:3561: UserWarning: To exit: use 'exit', 'quit', or Ctrl-D.\n",
      "  warn(\"To exit: use 'exit', 'quit', or Ctrl-D.\", stacklevel=1)\n"
     ]
    }
   ],
   "source": [
    "def ret_parser():\n",
    "    parser = argparse.ArgumentParser(\n",
    "        description=\"Extracts info from your OUTCAR file\")\n",
    "    parser.add_argument(\n",
    "        \"--excel\", type=int, default=1, help=\"generate excel file\"\n",
    "    )\n",
    "    parser.add_argument(\n",
    "        \"--dat\", type=int, default=0, help=\"use exisiting band.dat file\"\n",
    "    )\n",
    "    parser.add_argument(\n",
    "        \"--vbcb\", type=int, default=0, help=\"generate seprate files of selected bands\"\n",
    "    )\n",
    "    return parser\n",
    "\n",
    "import sys\n",
    "import argparse\n",
    "\n",
    "\n",
    "def info_from_dat(input_file_path):\n",
    "    \n",
    "    using_sumo =1 \n",
    "    \n",
    "    NELECT, NKPTS   = info_from_outcar(\"./OUTCAR\")\n",
    "\n",
    "    print(\"NKPTS from OUTCAR = \",NKPTS)\n",
    "\n",
    "    #generate band.dat file here\n",
    "\n",
    "    # modify dat path here\n",
    "    parent_datPath=input_file_path+'band.dat'  \n",
    "\n",
    "\n",
    "    NKPTS_dat=kp_FromDat(parent_datPath,using_sumo)   #find the no of kpoints manually / from the band.dat file\n",
    "    print(\"NKPTS from .dat file = \",NKPTS_dat)\n",
    "\n",
    "    if(NKPTS_dat != NKPTS):\n",
    "        print(\"I will be using No. K-Points = \" , NKPTS_dat , \" for this calculation\")\n",
    "        NKPTS=NKPTS_dat\n",
    "\n",
    "    #handling .dat file\n",
    "    vb=NELECT/2    # index of valance band = nelect/2\n",
    "    cb=vb+1\n",
    "\n",
    "    print('VB is ', vb)\n",
    "    print('CB is ', cb)\n",
    "    print('- - - - -')\n",
    "\n",
    "    data = np.loadtxt( 'band.dat' )\n",
    "    data_vbm = data[int(NKPTS*(int(vb)-1)):int(NKPTS*(int(vb+1)-1))]\n",
    "\n",
    "\n",
    "    # data_vbm = np.loadtxt(VBM_path,unpack=True)\n",
    "    x_vbm=data_vbm[:,0]\n",
    "    y_vbm=data_vbm[:,1]\n",
    "\n",
    "    #put all the values from VBM to a data frame\n",
    "    df_vbm = pd.DataFrame({'band_index':x_vbm, 'energy':y_vbm})\n",
    "\n",
    "\n",
    "\n",
    "    data_cbm = data[int(NKPTS*(int(cb)-1)):int(NKPTS*(int(cb+1)-1))]\n",
    "    # data_cbm=\n",
    "    # data_cbm = np.loadtxt(CBM_path,unpack=True)\n",
    "    x_cbm=data_cbm[:,0]\n",
    "    y_cbm=data_cbm[:,1]\n",
    "\n",
    "    #put all the values from VBM to a data frame\n",
    "    df_cbm = pd.DataFrame({'band_index':x_cbm, 'energy':y_cbm})\n",
    "    \n",
    "\n",
    "    return df_vbm , df_cbm\n",
    "\n",
    "\n",
    "\n",
    "def initiate(input_file_path, output_file_path,excel_gen,use_existing_dat,gen_vbcb_files):\n",
    "\n",
    "\n",
    "        \n",
    "    ################################################\n",
    "    #take input\n",
    "\n",
    "    #if using the dat file from sumo - use 1\n",
    "\n",
    "    print(\"-------------------------\")\n",
    "    print(\"-- Effective Mass Calculator\")\n",
    "    print(\"Make sure OUTCAR and band.dat or BAND.dat are present in the same directory\")\n",
    "    print(\"-------------------------\\n\")\n",
    "\n",
    "    # directory_path=str(input(\"Enter you current Path:\\n\"))\n",
    "    directory_path=\"./\"\n",
    "    OUTCAR_path=directory_path+'OUTCAR'\n",
    "\n",
    "\n",
    "    # generating .dat file\n",
    "    # vr_files = [\"path/to/vasprun.xml\"]\n",
    "    # generate_band_dat(vr_files)\n",
    "\n",
    "    # using_sumo = bool(input(\"Enter 1 if data extrated from SUMO , 0 if extracted from Vaspkit ?\\n\"))\n",
    "    using_sumo = True\n",
    "\n",
    "    # lim_kpoints=int(input(\"How many K-Points you want to consider ?\\n\"))\n",
    "    lim_kpoints=4\n",
    "    #lim_kpoints-=1\n",
    "\n",
    "    # excel_path=str(input(\"Excel file name? \\n\"))+'.xlsx'\n",
    "    excel_path=\"temp\"+'.xlsx'\n",
    "    excel_path=directory_path+excel_path\n",
    "    ################################################\n",
    "\n",
    "    '''\n",
    "    ################################################\n",
    "    #extracting data from OUTCAR\n",
    "\n",
    "    #find the line that has data of NKPTS and NELECT\n",
    "    with open(OUTCAR_path, 'r') as f:\n",
    "        for line in f.readlines():\n",
    "            if 'k-points           NKPTS =' in line:\n",
    "                band_line=line\n",
    "            if 'NELECT =' in line:\n",
    "                nelec_line=line\n",
    "\n",
    "\n",
    "    # print(\"band line\",band_line)\n",
    "    # print(\"nelec_line\",nelec_line)\n",
    "\n",
    "\n",
    "    #extract all the numbers from the string and convert them into a list\n",
    "    s1 = [float(s) for s in re.findall(r'-?\\d+\\.?\\d*', nelec_line)]\n",
    "    # print(nelec_line)\n",
    "\n",
    "    NELECT=s1[0]     #check the number of electrons to find the VBM number\n",
    "\n",
    "    s2 = [float(s) for s in re.findall(r'-?\\d+\\.?\\d*', band_line)]\n",
    "    # print(band_line)\n",
    "\n",
    "    NKPTS=s2[0]\n",
    "    '''\n",
    "    ######\n",
    "    # data extracted from OUTCAR \n",
    "    ###\n",
    "\n",
    "    \n",
    "    '''\n",
    "\n",
    "\n",
    "    NELECT, NKPTS   = info_from_outcar(\"./OUTCAR\")\n",
    "\n",
    "    print(\"NKPTS from OUTCAR = \",NKPTS)\n",
    "\n",
    "    #generate band.dat file here\n",
    "\n",
    "    # modify dat path here\n",
    "    parent_datPath=input_file_path+'band.dat'  \n",
    "\n",
    "\n",
    "    NKPTS_dat=kp_FromDat(parent_datPath,using_sumo)   #find the no of kpoints manually / from the band.dat file\n",
    "    print(\"NKPTS from .dat file = \",NKPTS_dat)\n",
    "\n",
    "    if(NKPTS_dat != NKPTS):\n",
    "        print(\"I will be using No. K-Points = \" , NKPTS_dat , \" for this calculation\")\n",
    "        NKPTS=NKPTS_dat\n",
    "\n",
    "    #handling .dat file\n",
    "    vb=NELECT/2    # index of valance band = nelect/2\n",
    "    cb=vb+1\n",
    "\n",
    "    print('VB is ', vb)\n",
    "    print('CB is ', cb)\n",
    "    print('- - - - -')\n",
    "\n",
    "    data = np.loadtxt( 'band.dat' )\n",
    "    data_vbm = data[int(NKPTS*(int(vb)-1)):int(NKPTS*(int(vb+1)-1))]\n",
    "\n",
    "\n",
    "    # data_vbm = np.loadtxt(VBM_path,unpack=True)\n",
    "    x_vbm=data_vbm[:,0]\n",
    "    y_vbm=data_vbm[:,1]\n",
    "\n",
    "    #put all the values from VBM to a data frame\n",
    "    df_vbm = pd.DataFrame({'band_index':x_vbm, 'energy':y_vbm})\n",
    "\n",
    "\n",
    "\n",
    "    data_cbm = data[int(NKPTS*(int(cb)-1)):int(NKPTS*(int(cb+1)-1))]\n",
    "    # data_cbm=\n",
    "    # data_cbm = np.loadtxt(CBM_path,unpack=True)\n",
    "    x_cbm=data_cbm[:,0]\n",
    "    y_cbm=data_cbm[:,1]\n",
    "\n",
    "    #put all the values from VBM to a data frame\n",
    "    df_cbm = pd.DataFrame({'band_index':x_cbm, 'energy':y_cbm})\n",
    "    '''\n",
    "\n",
    "    df_vbm , df_cbm  = info_from_dat(input_file_path)\n",
    "\n",
    "\n",
    "\n",
    "    '''\n",
    "    # start_line_vb = startingPoint(vb,NKPTS,sumo=using_sumo)\n",
    "    # end_line_vb   = endingPoint(vb,NKPTS,sumo=using_sumo)\n",
    "\n",
    "    # print(\"starting line = \",start_line_vb, \" ending line = \",end_line_vb)\n",
    "\n",
    "    #cb = vb+1\n",
    "\n",
    "    start_line_cb=startingPoint(cb,NKPTS,sumo=using_sumo)\n",
    "    end_line_cb=endingPoint(cb,NKPTS,sumo=using_sumo)\n",
    "\n",
    "    # print(\"starting line = \",start_line_cb, \" ending line = \",end_line_cb)\n",
    "\n",
    "    # data of VB and CB is extracted in to the files named VBM and CBM\n",
    "\n",
    "    #change this if you want to change the name of the seprate VBM CBM files\n",
    "\n",
    "    VBM_path=directory_path+\"VBM\"\n",
    "    CBM_path=directory_path+\"CBM\"\n",
    "\n",
    "    extract_lines(parent_datPath,VBM_path,start_line_vb,end_line_vb)\n",
    "    extract_lines(parent_datPath,CBM_path,start_line_cb,end_line_cb)\n",
    "\n",
    "\n",
    "    #till now you have vbm.dat and cbm.dat file \n",
    "    #till now this code need the OUTCAR file and band.dat file (both sumo or vaspkit will work)\n",
    "\n",
    "    data_vbm = np.loadtxt(VBM_path,unpack=True)\n",
    "    x_vbm=data_vbm[0]\n",
    "    y_vbm=data_vbm[1]\n",
    "\n",
    "    #put all the values from VBM to a data frame\n",
    "    df_vbm = pd.DataFrame({'band_index':x_vbm, 'energy':y_vbm})\n",
    "\n",
    "\n",
    "    data_cbm = np.loadtxt(CBM_path,unpack=True)\n",
    "    x_cbm=data_cbm[0]\n",
    "    y_cbm=data_cbm[1]\n",
    "\n",
    "    #put all the values from VBM to a data frame\n",
    "    df_cbm = pd.DataFrame({'band_index':x_cbm, 'energy':y_cbm})\n",
    "    '''\n",
    "\n",
    "\n",
    "\n",
    "    # after the data is loaded into df code will handle\n",
    "\n",
    "\n",
    "    #both the data is in a dataframe\n",
    "    ################################################\n",
    "\n",
    "\n",
    "    vb_back=band_selection(df_vbm,lim_kpoints,band_type='vb',direc=False)\n",
    "    vb_next=band_selection(df_vbm,lim_kpoints,band_type='vb',direc=True)\n",
    "    cb_back=band_selection(df_cbm,lim_kpoints,band_type='cb',direc=False)\n",
    "    cb_next=band_selection(df_cbm,lim_kpoints,band_type='cb',direc=True)\n",
    "\n",
    "    # all set just put intoexcel\n",
    "\n",
    "\n",
    "    \"\"\"\n",
    "    for excel \n",
    "    ex_col=1\n",
    "    ex_row=1\n",
    "\n",
    "    cb_back.to_excel(excel_path, index=False, engine='openpyxl', startcol=ex_col, startrow=ex_row)\n",
    "    with pd.ExcelWriter(excel_path, engine='openpyxl', mode='a',if_sheet_exists=\"overlay\") as writer:\n",
    "            my_text=pd.DataFrame([\"CB Next\"])\n",
    "            my_text.to_excel( writer, index=False, sheet_name='Sheet1',startcol=ex_col-1, startrow=ex_row)\n",
    "\n",
    "\n",
    "    #to update the row\n",
    "    ex_row=in_excel('CB Back', cb_back , excel_path , ex_row , ex_col,lim_kpoints)\n",
    "    ex_row=in_excel('CB Next', cb_next , excel_path , ex_row , ex_col,lim_kpoints)\n",
    "    ex_row=in_excel('VB Back', vb_back , excel_path , ex_row , ex_col,lim_kpoints)\n",
    "    ex_row=in_excel('VB Next', vb_next , excel_path , ex_row , ex_col,lim_kpoints)\n",
    "    \"\"\"\n",
    "\n",
    "\n",
    "\n",
    "    # print('CB Back\\n', cb_back )\n",
    "    # print('CB Next\\n', cb_next )\n",
    "    # print('VB Back\\n', vb_back )\n",
    "    # print('VB Next\\n', vb_next )\n",
    "\n",
    "\n",
    "    #uncomment the below code to generate the log file\n",
    "\n",
    "    print('CB Back\\n', cb_back )\n",
    "    cb_back_mass,cb_back_eq=mass_cal(cb_back,\"CB_back\")\n",
    "    print('- - -')\n",
    "    print('CB Next\\n', cb_next )\n",
    "    cb_next_mass,cb_next_eq=mass_cal(cb_next,\"CB_next\")\n",
    "    print('- - -')\n",
    "    print('VB Back\\n', vb_back )\n",
    "    vb_back_mass,vb_back_eq=mass_cal(vb_back,\"VB_back\")\n",
    "    print('- - -')\n",
    "    print('VB Next\\n', vb_next )\n",
    "    vb_next_mass,vb_next_eq=mass_cal(vb_next,\"VB_next\")\n",
    "    print('- - -')\n",
    "\n",
    "    \"\"\"\n",
    "\n",
    "    file1 = open(directory_path+\"eff_mass_log.txt\", \"w\")\n",
    "    L = [\"Effective Mass Calculation \\n\", ]\n",
    "    L.append(\"_________\\n\"+\"CB_Back\\n\"+str(cb_back_eq)+\"\\n\"+\"Mass = \"+str(cb_back_mass)+\"\\n_________\\n\")\n",
    "    L.append(\"_________\\n\"+\"CB_Next\\n\"+str(cb_next_eq)+\"\\n\"+\"Mass = \"+str(cb_next_mass)+\"\\n_________\\n\")\n",
    "    L.append(\"_________\\n\"+\"VB_Back\\n\"+str(vb_back_eq)+\"\\n\"+\"Mass = \"+str(vb_back_mass)+\"\\n_________\\n\")\n",
    "    L.append(\"_________\\n\"+\"VB_Next\\n\"+str(vb_next_eq)+\"\\n\"+\"Mass = \"+str(vb_next_mass)+\"\\n_________\\n\")\n",
    "\n",
    "    # \\n is placed to indicate EOL (End of Line)\n",
    "    file1.writelines(L)\n",
    "    file1.close()  # to change file access modes.\n",
    "\n",
    "    \"\"\"\n",
    "\n",
    "\n",
    "\n",
    "def main():\n",
    "    #main starts from here \n",
    "\n",
    "    print(\"___________________________\")\n",
    "    print(\"|  Welcome, I'm Crystine   |\")\n",
    "    print(\"___________________________\")\n",
    "\n",
    "\n",
    "    input_file_path = './'  # Replace with your actual file path\n",
    "    #later rename the above file to OUTCAR\n",
    "    output_file_path = \"gmass\"\n",
    "    args = ret_parser().parse_args()\n",
    "    initiate(input_file_path, output_file_path,excel_gen=args.excel)\n",
    "\n",
    "if __name__ == \"__main__\":\n",
    "    main()"
   ]
  }
 ],
 "metadata": {
  "kernelspec": {
   "display_name": "base",
   "language": "python",
   "name": "python3"
  },
  "language_info": {
   "codemirror_mode": {
    "name": "ipython",
    "version": 3
   },
   "file_extension": ".py",
   "mimetype": "text/x-python",
   "name": "python",
   "nbconvert_exporter": "python",
   "pygments_lexer": "ipython3",
   "version": "3.11.7"
  }
 },
 "nbformat": 4,
 "nbformat_minor": 2
}
